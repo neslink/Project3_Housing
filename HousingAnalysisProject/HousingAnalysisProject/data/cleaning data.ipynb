{
 "cells": [
  {
   "cell_type": "code",
   "execution_count": 1,
   "id": "0d23f4b6",
   "metadata": {},
   "outputs": [],
   "source": [
    "import pandas as pd\n",
    "import numpy as np"
   ]
  },
  {
   "cell_type": "code",
   "execution_count": 2,
   "id": "4e89f0dc",
   "metadata": {},
   "outputs": [],
   "source": [
    "df = pd.read_csv(\"State_zhvi_uc_sfrcondo_tier_0.33_0.67_sm_sa_month.csv\")"
   ]
  },
  {
   "cell_type": "code",
   "execution_count": 3,
   "id": "df87a999",
   "metadata": {},
   "outputs": [],
   "source": [
    "df = df.drop([\n",
    "    \"RegionID\",\n",
    "    \"RegionType\",\n",
    "    \"StateName\",\n",
    "    \"SizeRank\"\n",
    "], axis = 1).round()"
   ]
  },
  {
   "cell_type": "code",
   "execution_count": 4,
   "id": "970569fb",
   "metadata": {},
   "outputs": [],
   "source": [
    "df = df.fillna(0)"
   ]
  },
  {
   "cell_type": "code",
   "execution_count": 5,
   "id": "111c1e95",
   "metadata": {
    "scrolled": true
   },
   "outputs": [],
   "source": [
    "df[df.columns[1:288]] = df[df.columns[1:288]].astype(np.int64)"
   ]
  },
  {
   "cell_type": "code",
   "execution_count": 16,
   "id": "07c3804e",
   "metadata": {},
   "outputs": [],
   "source": [
    "df.to_csv('clean_state_house_pricing.csv')"
   ]
  },
  {
   "cell_type": "code",
   "execution_count": 6,
   "id": "7acb06b1",
   "metadata": {
    "scrolled": true
   },
   "outputs": [
    {
     "name": "stdout",
     "output_type": "stream",
     "text": [
      "<class 'pandas.core.frame.DataFrame'>\n",
      "RangeIndex: 51 entries, 0 to 50\n",
      "Columns: 286 entries, RegionName to Sep2023\n",
      "dtypes: int64(285), object(1)\n",
      "memory usage: 114.1+ KB\n"
     ]
    }
   ],
   "source": [
    "df.info()"
   ]
  },
  {
   "cell_type": "code",
   "execution_count": 14,
   "id": "d7da4654",
   "metadata": {
    "scrolled": true
   },
   "outputs": [
    {
     "data": {
      "text/plain": [
       "['California',\n",
       " 'Texas',\n",
       " 'Florida',\n",
       " 'New York',\n",
       " 'Pennsylvania',\n",
       " 'Illinois',\n",
       " 'Ohio',\n",
       " 'Georgia',\n",
       " 'North Carolina',\n",
       " 'Michigan',\n",
       " 'New Jersey',\n",
       " 'Virginia',\n",
       " 'Washington',\n",
       " 'Arizona',\n",
       " 'Massachusetts',\n",
       " 'Tennessee',\n",
       " 'Indiana',\n",
       " 'Maryland',\n",
       " 'Missouri',\n",
       " 'Wisconsin',\n",
       " 'Colorado',\n",
       " 'Minnesota',\n",
       " 'South Carolina',\n",
       " 'Alabama',\n",
       " 'Louisiana',\n",
       " 'Kentucky',\n",
       " 'Oregon',\n",
       " 'Oklahoma',\n",
       " 'Connecticut',\n",
       " 'Utah',\n",
       " 'Iowa',\n",
       " 'Nevada',\n",
       " 'Arkansas',\n",
       " 'Mississippi',\n",
       " 'Kansas',\n",
       " 'New Mexico',\n",
       " 'Nebraska',\n",
       " 'Idaho',\n",
       " 'West Virginia',\n",
       " 'Hawaii',\n",
       " 'New Hampshire',\n",
       " 'Maine',\n",
       " 'Rhode Island',\n",
       " 'Montana',\n",
       " 'Delaware',\n",
       " 'South Dakota',\n",
       " 'North Dakota',\n",
       " 'Alaska',\n",
       " 'District of Columbia',\n",
       " 'Vermont',\n",
       " 'Wyoming']"
      ]
     },
     "execution_count": 14,
     "metadata": {},
     "output_type": "execute_result"
    }
   ],
   "source": [
    "df['RegionName'].to_list()"
   ]
  },
  {
   "cell_type": "code",
   "execution_count": 10,
   "id": "16fa0e78",
   "metadata": {},
   "outputs": [
    {
     "data": {
      "text/plain": [
       "286"
      ]
     },
     "execution_count": 10,
     "metadata": {},
     "output_type": "execute_result"
    }
   ],
   "source": [
    "len(df.columns.to_list())"
   ]
  },
  {
   "cell_type": "code",
   "execution_count": 18,
   "id": "f23a6b8d",
   "metadata": {},
   "outputs": [],
   "source": [
    "# this function found at https://www.geeksforgeeks.org/convert-csv-to-json-using-python/\n",
    "import csv\n",
    "import json\n",
    " \n",
    " \n",
    "# Function to convert a CSV to JSON\n",
    "# Takes the file paths as arguments\n",
    "def make_json(csvFilePath, jsonFilePath):\n",
    "     \n",
    "    # create a dictionary\n",
    "    data = {}\n",
    "     \n",
    "    # Open a csv reader called DictReader\n",
    "    with open(csvFilePath, encoding='utf-8') as csvf:\n",
    "        csvReader = csv.DictReader(csvf)\n",
    "         \n",
    "        # Convert each row into a dictionary \n",
    "        # and add it to data\n",
    "        for rows in csvReader:\n",
    "             \n",
    "            # Assuming a column named 'No' to\n",
    "            # be the primary key\n",
    "            key = rows['RegionName']\n",
    "            data[key] = rows\n",
    " \n",
    "    # Open a json writer, and use the json.dumps() \n",
    "    # function to dump data\n",
    "    with open(jsonFilePath, 'w', encoding='utf-8') as jsonf:\n",
    "        jsonf.write(json.dumps(data, indent=4))\n",
    "         \n",
    "# Driver Code\n",
    " \n",
    "# Decide the two file paths according to your \n",
    "# computer system\n",
    "csvFilePath = \"clean_state_house_pricing.csv\"\n",
    "jsonFilePath = \"clean_state_house_pricing.json\"\n",
    " \n",
    "# Call the make_json function\n",
    "make_json(csvFilePath, jsonFilePath)"
   ]
  },
  {
   "cell_type": "code",
   "execution_count": null,
   "id": "8f2dd6a7",
   "metadata": {},
   "outputs": [],
   "source": []
  }
 ],
 "metadata": {
  "kernelspec": {
   "display_name": "Python 3 (ipykernel)",
   "language": "python",
   "name": "python3"
  },
  "language_info": {
   "codemirror_mode": {
    "name": "ipython",
    "version": 3
   },
   "file_extension": ".py",
   "mimetype": "text/x-python",
   "name": "python",
   "nbconvert_exporter": "python",
   "pygments_lexer": "ipython3",
   "version": "3.10.9"
  }
 },
 "nbformat": 4,
 "nbformat_minor": 5
}
